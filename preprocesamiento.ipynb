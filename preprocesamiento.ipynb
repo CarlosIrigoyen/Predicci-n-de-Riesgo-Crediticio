{
 "cells": [
  {
   "cell_type": "code",
   "execution_count": null,
   "metadata": {},
   "outputs": [],
   "source": [
    "import pandas as pd\n",
    "\n",
    "df = pd.read_csv('credit_risk_dataset.csv')"
   ]
  },
  {
   "cell_type": "code",
   "execution_count": 9,
   "metadata": {},
   "outputs": [
    {
     "name": "stdout",
     "output_type": "stream",
     "text": [
      "Columna: person_age\n",
      "Cantidad de nulos: 0\n",
      "% de nulos: 0.0%\n",
      "\n",
      "Columna: person_income\n",
      "Cantidad de nulos: 0\n",
      "% de nulos: 0.0%\n",
      "\n",
      "Columna: person_home_ownership\n",
      "Cantidad de nulos: 0\n",
      "% de nulos: 0.0%\n",
      "\n",
      "Columna: person_emp_length\n",
      "Cantidad de nulos: 0\n",
      "% de nulos: 0.0%\n",
      "\n",
      "Columna: loan_intent\n",
      "Cantidad de nulos: 0\n",
      "% de nulos: 0.0%\n",
      "\n",
      "Columna: loan_grade\n",
      "Cantidad de nulos: 0\n",
      "% de nulos: 0.0%\n",
      "\n",
      "Columna: loan_amnt\n",
      "Cantidad de nulos: 0\n",
      "% de nulos: 0.0%\n",
      "\n",
      "Columna: loan_int_rate\n",
      "Cantidad de nulos: 0\n",
      "% de nulos: 0.0%\n",
      "\n",
      "Columna: loan_status\n",
      "Cantidad de nulos: 0\n",
      "% de nulos: 0.0%\n",
      "\n",
      "Columna: loan_percent_income\n",
      "Cantidad de nulos: 0\n",
      "% de nulos: 0.0%\n",
      "\n",
      "Columna: cb_person_default_on_file\n",
      "Cantidad de nulos: 0\n",
      "% de nulos: 0.0%\n",
      "\n",
      "Columna: cb_person_cred_hist_length\n",
      "Cantidad de nulos: 0\n",
      "% de nulos: 0.0%\n",
      "\n"
     ]
    }
   ],
   "source": [
    "# Recorro cada columna del dataframe y muestro la cantidad de nulos por cada una\n",
    "def verificar_nulos_por_columna():\n",
    "  for column in df.columns:\n",
    "    print(f'Columna: {column}')\n",
    "    print(f'Cantidad de nulos: {df[column].isnull().sum()}')\n",
    "    print(f'% de nulos: {df[column].isnull().sum() / len(df[column]) * 100}%')\n",
    "    print()\n",
    "\n",
    "verificar_nulos_por_columna()"
   ]
  },
  {
   "cell_type": "code",
   "execution_count": 10,
   "metadata": {},
   "outputs": [],
   "source": [
    "# Corrijo los nulos de person_emp_length usando interpolación lineal\n",
    "df['person_emp_length'] = df['person_emp_length'].interpolate()\n",
    "\n",
    "# Corrijo los nulos de loan_int_rate usando interpolación lineal\n",
    "df['loan_int_rate'] = df['loan_int_rate'].interpolate()"
   ]
  },
  {
   "cell_type": "code",
   "execution_count": 12,
   "metadata": {},
   "outputs": [
    {
     "name": "stdout",
     "output_type": "stream",
     "text": [
      "Columna: person_age\n",
      "Cantidad de nulos: 0\n",
      "% de nulos: 0.0%\n",
      "\n",
      "Columna: person_income\n",
      "Cantidad de nulos: 0\n",
      "% de nulos: 0.0%\n",
      "\n",
      "Columna: person_home_ownership\n",
      "Cantidad de nulos: 0\n",
      "% de nulos: 0.0%\n",
      "\n",
      "Columna: person_emp_length\n",
      "Cantidad de nulos: 0\n",
      "% de nulos: 0.0%\n",
      "\n",
      "Columna: loan_intent\n",
      "Cantidad de nulos: 0\n",
      "% de nulos: 0.0%\n",
      "\n",
      "Columna: loan_grade\n",
      "Cantidad de nulos: 0\n",
      "% de nulos: 0.0%\n",
      "\n",
      "Columna: loan_amnt\n",
      "Cantidad de nulos: 0\n",
      "% de nulos: 0.0%\n",
      "\n",
      "Columna: loan_int_rate\n",
      "Cantidad de nulos: 0\n",
      "% de nulos: 0.0%\n",
      "\n",
      "Columna: loan_status\n",
      "Cantidad de nulos: 0\n",
      "% de nulos: 0.0%\n",
      "\n",
      "Columna: loan_percent_income\n",
      "Cantidad de nulos: 0\n",
      "% de nulos: 0.0%\n",
      "\n",
      "Columna: cb_person_default_on_file\n",
      "Cantidad de nulos: 0\n",
      "% de nulos: 0.0%\n",
      "\n",
      "Columna: cb_person_cred_hist_length\n",
      "Cantidad de nulos: 0\n",
      "% de nulos: 0.0%\n",
      "\n"
     ]
    }
   ],
   "source": [
    "# Vuelvo a verificar nulos\n",
    "verificar_nulos_por_columna()"
   ]
  },
  {
   "cell_type": "code",
   "execution_count": 13,
   "metadata": {},
   "outputs": [],
   "source": [
    "# Guardo el dataset sin nulos\n",
    "df.to_csv('credit_risk_dataset_sin_nulos.csv', index=False)"
   ]
  }
 ],
 "metadata": {
  "kernelspec": {
   "display_name": "venv",
   "language": "python",
   "name": "python3"
  },
  "language_info": {
   "codemirror_mode": {
    "name": "ipython",
    "version": 3
   },
   "file_extension": ".py",
   "mimetype": "text/x-python",
   "name": "python",
   "nbconvert_exporter": "python",
   "pygments_lexer": "ipython3",
   "version": "3.11.5"
  }
 },
 "nbformat": 4,
 "nbformat_minor": 2
}
